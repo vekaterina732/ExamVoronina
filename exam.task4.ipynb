{
 "cells": [
  {
   "cell_type": "code",
   "execution_count": 1,
   "id": "228aa9d7-3903-438b-88e4-d369721246c7",
   "metadata": {
    "tags": []
   },
   "outputs": [],
   "source": [
    "import os"
   ]
  },
  {
   "cell_type": "code",
   "execution_count": 2,
   "id": "cbf2c65a-8028-47e8-aeda-b3722b96a5ad",
   "metadata": {
    "tags": []
   },
   "outputs": [],
   "source": [
    "POSTGRESQL_HOST = '10.129.0.25'"
   ]
  },
  {
   "cell_type": "code",
   "execution_count": 3,
   "id": "f50442bf-2014-4eb0-b572-248f3a0599dd",
   "metadata": {},
   "outputs": [],
   "source": [
    "CONNECT_DATA = 'postgresql://{}:{}@{}/{}'.format(\n",
    "    os.environ['POSTGRESQL_USER'],\n",
    "    os.environ['POSTGRESQL_PASSWORD'],\n",
    "    POSTGRESQL_HOST,\n",
    "    'demo'\n",
    ")"
   ]
  },
  {
   "cell_type": "code",
   "execution_count": 4,
   "id": "f258c699-0f35-4b09-8e8d-cbd5d547d43f",
   "metadata": {
    "tags": []
   },
   "outputs": [],
   "source": [
    "%load_ext sql"
   ]
  },
  {
   "cell_type": "code",
   "execution_count": 5,
   "id": "51eac3f5-50d1-4368-803f-2c3021e39d71",
   "metadata": {},
   "outputs": [
    {
     "name": "stdout",
     "output_type": "stream",
     "text": [
      "4 rows affected.\n"
     ]
    },
    {
     "data": {
      "text/html": [
       "<table>\n",
       "    <thead>\n",
       "        <tr>\n",
       "            <th>department_name</th>\n",
       "            <th>manager_name</th>\n",
       "            <th>num_employees</th>\n",
       "        </tr>\n",
       "    </thead>\n",
       "    <tbody>\n",
       "        <tr>\n",
       "            <td>Executive</td>\n",
       "            <td>Steven King</td>\n",
       "            <td>3</td>\n",
       "        </tr>\n",
       "        <tr>\n",
       "            <td>Finance</td>\n",
       "            <td>Nancy Greenberg</td>\n",
       "            <td>2</td>\n",
       "        </tr>\n",
       "        <tr>\n",
       "            <td>IT</td>\n",
       "            <td>Alexander Hunold</td>\n",
       "            <td>2</td>\n",
       "        </tr>\n",
       "        <tr>\n",
       "            <td>Purchasing</td>\n",
       "            <td>Den Raphaely</td>\n",
       "            <td>3</td>\n",
       "        </tr>\n",
       "    </tbody>\n",
       "</table>"
      ],
      "text/plain": [
       "[('Executive', 'Steven King', 3),\n",
       " ('Finance', 'Nancy Greenberg', 2),\n",
       " ('IT', 'Alexander Hunold', 2),\n",
       " ('Purchasing', 'Den Raphaely', 3)]"
      ]
     },
     "execution_count": 5,
     "metadata": {},
     "output_type": "execute_result"
    }
   ],
   "source": [
    "%%sql $CONNECT_DATA\n",
    "SELECT \n",
    "    d.DEPARTMENT_NAME,\n",
    "    m.FIRST_NAME || ' ' || m.LAST_NAME AS MANAGER_NAME,\n",
    "    COUNT(e.EMPLOYEE_ID) AS NUM_EMPLOYEES\n",
    "FROM \n",
    "    Departments d\n",
    "JOIN \n",
    "    Employees m ON d.MANAGER_ID = m.EMPLOYEE_ID\n",
    "LEFT JOIN \n",
    "    Employees e ON e.DEPARTMENT_ID = d.DEPARTMENT_ID\n",
    "GROUP BY \n",
    "    d.DEPARTMENT_NAME, \n",
    "    m.FIRST_NAME, \n",
    "    m.LAST_NAME\n",
    "ORDER BY \n",
    "    d.DEPARTMENT_NAME;\n"
   ]
  }
 ],
 "metadata": {
  "kernelspec": {
   "display_name": "Python 3 (ipykernel)",
   "language": "python",
   "name": "python3"
  },
  "language_info": {
   "codemirror_mode": {
    "name": "ipython",
    "version": 3
   },
   "file_extension": ".py",
   "mimetype": "text/x-python",
   "name": "python",
   "nbconvert_exporter": "python",
   "pygments_lexer": "ipython3",
   "version": "3.10.9"
  }
 },
 "nbformat": 4,
 "nbformat_minor": 5
}
